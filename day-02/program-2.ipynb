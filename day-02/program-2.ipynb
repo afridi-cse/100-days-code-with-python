{
 "cells": [
  {
   "attachments": {},
   "cell_type": "markdown",
   "metadata": {},
   "source": [
    "  Write a Python program to sort (ascending and descending) a dictionary by value."
   ]
  },
  {
   "cell_type": "code",
   "execution_count": 2,
   "metadata": {},
   "outputs": [
    {
     "name": "stdout",
     "output_type": "stream",
     "text": [
      "Original dictionary :  {'Two': 2, 'Four': 4, 'Three': 3, 'One': 1, 'Zero': 0, 'Eight': 8}\n",
      "Dictionary in ascending order by value :  [('Zero', 0), ('One', 1), ('Two', 2), ('Three', 3), ('Four', 4), ('Eight', 8)]\n",
      "Dictionary in descending order by value :  {'Eight': 8, 'Four': 4, 'Three': 3, 'Two': 2, 'One': 1, 'Zero': 0}\n"
     ]
    }
   ],
   "source": [
    "import operator\n",
    "d = {'Two': 2, 'Four': 4, 'Three': 3, 'One': 1, 'Zero': 0, 'Eight': 8}\n",
    "print('Original dictionary : ',d)\n",
    "sorted_d = sorted(d.items(), key=operator.itemgetter(1))\n",
    "print('Dictionary in ascending order by value : ',sorted_d)\n",
    "sorted_d = dict( sorted(d.items(), key=operator.itemgetter(1),reverse=True))\n",
    "print('Dictionary in descending order by value : ',sorted_d)\n"
   ]
  },
  {
   "cell_type": "code",
   "execution_count": 5,
   "metadata": {},
   "outputs": [
    {
     "name": "stdout",
     "output_type": "stream",
     "text": [
      "Original dictionary elements:\n",
      "{'Red': 1, 'Green': 3, 'Black': 5, 'White': 2, 'Pink': 4}\n",
      "\n",
      "Sort (ascending) the said dictionary elements by value:\n",
      "{'Red': 1, 'White': 2, 'Green': 3, 'Pink': 4, 'Black': 5}\n",
      "\n",
      "Sort (descending) the said dictionary elements by value:\n",
      "{'Black': 5, 'Pink': 4, 'Green': 3, 'White': 2, 'Red': 1}\n"
     ]
    }
   ],
   "source": [
    "def sort_dict_by_value(d, reverse = False):\n",
    "  return dict(sorted(d.items(), key = lambda x: x[1], reverse = reverse))\n",
    "print(\"Original dictionary elements:\")\n",
    "colors = {'Red': 1, 'Green': 3, 'Black': 5, 'White': 2, 'Pink': 4}\n",
    "print(colors)\n",
    "print(\"\\nSort (ascending) the said dictionary elements by value:\")\n",
    "print(sort_dict_by_value(colors))\n",
    "print(\"\\nSort (descending) the said dictionary elements by value:\")\n",
    "print(sort_dict_by_value(colors, True))"
   ]
  }
 ],
 "metadata": {
  "kernelspec": {
   "display_name": "Python 3",
   "language": "python",
   "name": "python3"
  },
  "language_info": {
   "codemirror_mode": {
    "name": "ipython",
    "version": 3
   },
   "file_extension": ".py",
   "mimetype": "text/x-python",
   "name": "python",
   "nbconvert_exporter": "python",
   "pygments_lexer": "ipython3",
   "version": "3.11.1"
  },
  "orig_nbformat": 4,
  "vscode": {
   "interpreter": {
    "hash": "de47f5c92c0ee6f12a59a5613ac5feff6aab19ddff207ba0b3964cced08c4ccc"
   }
  }
 },
 "nbformat": 4,
 "nbformat_minor": 2
}
