{
 "cells": [
  {
   "attachments": {},
   "cell_type": "markdown",
   "metadata": {},
   "source": [
    "Write a Python script to merge two Python dictionaries."
   ]
  },
  {
   "cell_type": "code",
   "execution_count": 3,
   "metadata": {},
   "outputs": [
    {
     "name": "stdout",
     "output_type": "stream",
     "text": [
      "{'a': 100, 'b': 200, 'x': 300, 'y': 200}\n"
     ]
    }
   ],
   "source": [
    "d1 = {'a': 100, 'b': 200}\n",
    "d2 = {'x': 300, 'y': 200}\n",
    "d = d1.copy()\n",
    "d.update(d2)\n",
    "print(d)\n"
   ]
  },
  {
   "attachments": {},
   "cell_type": "markdown",
   "metadata": {},
   "source": [
    "Merge three dictionary"
   ]
  },
  {
   "cell_type": "code",
   "execution_count": 9,
   "metadata": {},
   "outputs": [
    {
     "data": {
      "text/plain": [
       "{'CT': 100,\n",
       " 'Pulser': 150,\n",
       " 'Splender': 100,\n",
       " 'Hunk': 150,\n",
       " 'Metro': 100,\n",
       " 'Appache': 150}"
      ]
     },
     "execution_count": 9,
     "metadata": {},
     "output_type": "execute_result"
    }
   ],
   "source": [
    "bajaj={\"CT\":100, \"Pulser\":150}\n",
    "hero={\"Splender\":100, \"Hunk\":150}\n",
    "tvs={\"Metro\":100,\"Appache\":150}\n",
    "\n",
    "bike = bajaj.copy()\n",
    "bike.update(hero)\n",
    "bike.update(tvs)\n",
    "bike\n",
    "\n"
   ]
  },
  {
   "attachments": {},
   "cell_type": "markdown",
   "metadata": {},
   "source": [
    "Another way to merge two dict"
   ]
  },
  {
   "cell_type": "code",
   "execution_count": 14,
   "metadata": {},
   "outputs": [
    {
     "name": "stdout",
     "output_type": "stream",
     "text": [
      "Original dictionaries:\n",
      "{'Afridi': 10, 'Ayman': 11}\n",
      "{'Ruma': 9}\n",
      "\n",
      "Merge dictionaries:\n",
      "{'Afridi': 10, 'Ayman': 11, 'Ruma': 9}\n"
     ]
    }
   ],
   "source": [
    "def merge_dictionaries(*dicts):\n",
    "  result = dict()\n",
    "\n",
    "  for d in dicts:\n",
    "    result.update(d)\n",
    "  return result\n",
    "\n",
    "students1 = {\n",
    "  'Afridi': 10,\n",
    "  'Ayman': 11,\n",
    "}\n",
    "students2 = {\n",
    "  'Ruma': 9\n",
    "}\n",
    "print(\"Original dictionaries:\")\n",
    "print(students1)\n",
    "print(students2)\n",
    "print(\"\\nMerge dictionaries:\")\n",
    "print(merge_dictionaries(students1, students2))\n"
   ]
  }
 ],
 "metadata": {
  "kernelspec": {
   "display_name": "Python 3",
   "language": "python",
   "name": "python3"
  },
  "language_info": {
   "codemirror_mode": {
    "name": "ipython",
    "version": 3
   },
   "file_extension": ".py",
   "mimetype": "text/x-python",
   "name": "python",
   "nbconvert_exporter": "python",
   "pygments_lexer": "ipython3",
   "version": "3.11.1"
  },
  "orig_nbformat": 4,
  "vscode": {
   "interpreter": {
    "hash": "de47f5c92c0ee6f12a59a5613ac5feff6aab19ddff207ba0b3964cced08c4ccc"
   }
  }
 },
 "nbformat": 4,
 "nbformat_minor": 2
}
