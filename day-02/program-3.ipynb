{
 "cells": [
  {
   "attachments": {},
   "cell_type": "markdown",
   "metadata": {},
   "source": [
    "    Write a Python program to concatenate following dictionaries to create a new one.\n",
    "\n",
    "    Sample Dictionary :\n",
    "    dic1={1:10, 2:20}\n",
    "    dic2={3:30, 4:40}\n",
    "    dic3={5:50,6:60}\n",
    "    Expected Result : {1: 10, 2: 20, 3: 30, 4: 40, 5: 50, 6: 60}"
   ]
  },
  {
   "cell_type": "code",
   "execution_count": 1,
   "metadata": {},
   "outputs": [
    {
     "name": "stdout",
     "output_type": "stream",
     "text": [
      "{'CT': 100, 'Pulser': 150, 'Splender': 100, 'Hunk': 150, 'Metro': 100, 'Appache': 150}\n"
     ]
    }
   ],
   "source": [
    "bajaj={\"CT\":100, \"Pulser\":150}\n",
    "hero={\"Splender\":100, \"Hunk\":150}\n",
    "tvs={\"Metro\":100,\"Appache\":150}\n",
    "bike = {}\n",
    "for d in (bajaj, hero, tvs): bike.update(d)\n",
    "print(bike)"
   ]
  }
 ],
 "metadata": {
  "kernelspec": {
   "display_name": "Python 3",
   "language": "python",
   "name": "python3"
  },
  "language_info": {
   "codemirror_mode": {
    "name": "ipython",
    "version": 3
   },
   "file_extension": ".py",
   "mimetype": "text/x-python",
   "name": "python",
   "nbconvert_exporter": "python",
   "pygments_lexer": "ipython3",
   "version": "3.11.1"
  },
  "orig_nbformat": 4,
  "vscode": {
   "interpreter": {
    "hash": "de47f5c92c0ee6f12a59a5613ac5feff6aab19ddff207ba0b3964cced08c4ccc"
   }
  }
 },
 "nbformat": 4,
 "nbformat_minor": 2
}
