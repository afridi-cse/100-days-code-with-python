{
 "cells": [
  {
   "attachments": {},
   "cell_type": "markdown",
   "metadata": {},
   "source": [
    "You are given the price of various goods.\n",
    "Given an array of items with qantity with fixed unit, find the final price."
   ]
  },
  {
   "cell_type": "code",
   "execution_count": 17,
   "metadata": {},
   "outputs": [
    {
     "name": "stdout",
     "output_type": "stream",
     "text": [
      "The final price:  1390.0\n"
     ]
    }
   ],
   "source": [
    "price = {\n",
    "    'onion': 50,\n",
    "    'beef': 700,\n",
    "    'oil': 200,\n",
    "    'rice': 70,\n",
    "    'potato': 40\n",
    "}\n",
    "\n",
    "# goods = input('Enter the items: ').split()\n",
    "goods = \"onion 2kg,beef 1.5kg,rice 2kg,oil 500gm\".split(',')\n",
    "\n",
    "sum = 0\n",
    "for element in goods:\n",
    "    x = element.split()\n",
    "    if x[1][-1] == 'g':\n",
    "        amount = float(x[1][:-2])\n",
    "\n",
    "    elif x[1][-1] == 'm':\n",
    "        amount = float(x[1][:-2]) /1000\n",
    "    sum += price[x[0]] * amount\n",
    "     \n",
    "print(\"The final price: \", sum) "
   ]
  },
  {
   "cell_type": "code",
   "execution_count": 18,
   "metadata": {},
   "outputs": [
    {
     "name": "stdout",
     "output_type": "stream",
     "text": [
      "Product 1 : onion 2kg : Price: 100.0  -- Per KG: 50\n",
      "Product 2 : beef 1.5kg : Price: 1050.0  -- Per KG: 700\n",
      "Product 3 : rice 2kg : Price: 140.0  -- Per KG: 70\n",
      "Product 4 : oil 500gm : Price: 100.0  -- Per KG: 200\n",
      "The final price:  1390.0\n"
     ]
    }
   ],
   "source": [
    "price = {\n",
    "    'onion': 50,\n",
    "    'beef': 700,\n",
    "    'oil': 200,\n",
    "    'rice': 70,\n",
    "    'potato': 40\n",
    "}\n",
    "\n",
    "# goods = input('Enter the items: ').split()\n",
    "goods = \"onion 2kg,beef 1.5kg,rice 2kg,oil 500gm\".split(',')\n",
    "\n",
    "count = 0\n",
    "sum = 0\n",
    "for element in goods:\n",
    "    x = element.split()\n",
    "    if x[1][-1] == 'g':\n",
    "        amount = float(x[1][:-2])\n",
    "\n",
    "    elif x[1][-1] == 'm':\n",
    "        amount = float(x[1][:-2]) /1000\n",
    "    sum += price[x[0]] * amount\n",
    "    \n",
    "    count +=1\n",
    "    print(\"Product\",count,\":\", element, \": Price:\", price[x[0]] * amount , \" -- Per KG:\",price[x[0]])\n",
    "\n",
    "\n",
    "\n",
    "print(\"The final price: \", sum) "
   ]
  }
 ],
 "metadata": {
  "kernelspec": {
   "display_name": "Python 3",
   "language": "python",
   "name": "python3"
  },
  "language_info": {
   "codemirror_mode": {
    "name": "ipython",
    "version": 3
   },
   "file_extension": ".py",
   "mimetype": "text/x-python",
   "name": "python",
   "nbconvert_exporter": "python",
   "pygments_lexer": "ipython3",
   "version": "3.11.1"
  },
  "orig_nbformat": 4,
  "vscode": {
   "interpreter": {
    "hash": "de47f5c92c0ee6f12a59a5613ac5feff6aab19ddff207ba0b3964cced08c4ccc"
   }
  }
 },
 "nbformat": 4,
 "nbformat_minor": 2
}
