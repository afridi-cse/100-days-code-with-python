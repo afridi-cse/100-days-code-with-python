{
 "cells": [
  {
   "attachments": {},
   "cell_type": "markdown",
   "metadata": {},
   "source": [
    "Write a Python program to select all the Sundays of a specified year."
   ]
  },
  {
   "cell_type": "code",
   "execution_count": 2,
   "metadata": {},
   "outputs": [
    {
     "name": "stdout",
     "output_type": "stream",
     "text": [
      "2023-01-01\n",
      "2023-01-08\n",
      "2023-01-15\n",
      "2023-01-22\n",
      "2023-01-29\n",
      "2023-02-05\n",
      "2023-02-12\n",
      "2023-02-19\n",
      "2023-02-26\n",
      "2023-03-05\n",
      "2023-03-12\n",
      "2023-03-19\n",
      "2023-03-26\n",
      "2023-04-02\n",
      "2023-04-09\n",
      "2023-04-16\n",
      "2023-04-23\n",
      "2023-04-30\n",
      "2023-05-07\n",
      "2023-05-14\n",
      "2023-05-21\n",
      "2023-05-28\n",
      "2023-06-04\n",
      "2023-06-11\n",
      "2023-06-18\n",
      "2023-06-25\n",
      "2023-07-02\n",
      "2023-07-09\n",
      "2023-07-16\n",
      "2023-07-23\n",
      "2023-07-30\n",
      "2023-08-06\n",
      "2023-08-13\n",
      "2023-08-20\n",
      "2023-08-27\n",
      "2023-09-03\n",
      "2023-09-10\n",
      "2023-09-17\n",
      "2023-09-24\n",
      "2023-10-01\n",
      "2023-10-08\n",
      "2023-10-15\n",
      "2023-10-22\n",
      "2023-10-29\n",
      "2023-11-05\n",
      "2023-11-12\n",
      "2023-11-19\n",
      "2023-11-26\n",
      "2023-12-03\n",
      "2023-12-10\n",
      "2023-12-17\n",
      "2023-12-24\n",
      "2023-12-31\n"
     ]
    }
   ],
   "source": [
    "from datetime import date, timedelta\n",
    "\n",
    "def all_sundays(year):\n",
    "# January 1st of the given year\n",
    "       dt = date(year, 1, 1)\n",
    "# First Sunday of the given year       \n",
    "       dt += timedelta(days = 6 - dt.weekday())  \n",
    "       while dt.year == year:\n",
    "          yield dt\n",
    "          dt += timedelta(days = 7)\n",
    "          \n",
    "for s in all_sundays(2023):\n",
    "   print(s)\n",
    "   "
   ]
  }
 ],
 "metadata": {
  "kernelspec": {
   "display_name": "Python 3",
   "language": "python",
   "name": "python3"
  },
  "language_info": {
   "codemirror_mode": {
    "name": "ipython",
    "version": 3
   },
   "file_extension": ".py",
   "mimetype": "text/x-python",
   "name": "python",
   "nbconvert_exporter": "python",
   "pygments_lexer": "ipython3",
   "version": "3.11.1"
  },
  "orig_nbformat": 4,
  "vscode": {
   "interpreter": {
    "hash": "de47f5c92c0ee6f12a59a5613ac5feff6aab19ddff207ba0b3964cced08c4ccc"
   }
  }
 },
 "nbformat": 4,
 "nbformat_minor": 2
}
