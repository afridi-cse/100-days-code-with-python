{
 "cells": [
  {
   "attachments": {},
   "cell_type": "markdown",
   "metadata": {},
   "source": [
    " Write a Python program to add year(s) with a given date and display the new date. \n",
    "\n",
    "        Sample Data : (addYears is the user defined function name)\n",
    "        print(addYears(datetime.date(2015,1,1), -1))\n",
    "        print(addYears(datetime.date(2015,1,1), 0))\n",
    "        print(addYears(datetime.date(2015,1,1), 2))\n",
    "        print(addYears(datetime.date(2000,2,29),1))\n",
    "\n",
    "        Expected Output :\n",
    "        2014-01-01\n",
    "        2015-01-01\n",
    "        2017-01-01\n",
    "        2001-03-01"
   ]
  },
  {
   "cell_type": "code",
   "execution_count": 3,
   "metadata": {},
   "outputs": [
    {
     "name": "stdout",
     "output_type": "stream",
     "text": [
      "2022-01-01\n",
      "2023-01-01\n",
      "2025-01-01\n",
      "2024-02-28\n",
      "2025-03-01\n"
     ]
    }
   ],
   "source": [
    "import datetime\n",
    "from datetime import date\n",
    "def addYears(d, years):\n",
    "    try:\n",
    "#Return same day of the current year        \n",
    "        return d.replace(year = d.year + years)\n",
    "    except ValueError:\n",
    "#If not same day, it will return other, i.e.  February 29 to March 1 etc.        \n",
    "        return d + (date(d.year + years, 1, 1) - date(d.year, 1, 1))\n",
    "\n",
    "print(addYears(datetime.date(2023,1,1), -1))\n",
    "print(addYears(datetime.date(2023,1,1), 0))\n",
    "print(addYears(datetime.date(2023,1,1), 2))\n",
    "print(addYears(datetime.date(2023,2,28),1))\n",
    "print(addYears(datetime.date(2024,2,29),1))\n"
   ]
  },
  {
   "cell_type": "markdown",
   "metadata": {},
   "source": []
  }
 ],
 "metadata": {
  "kernelspec": {
   "display_name": "Python 3",
   "language": "python",
   "name": "python3"
  },
  "language_info": {
   "codemirror_mode": {
    "name": "ipython",
    "version": 3
   },
   "file_extension": ".py",
   "mimetype": "text/x-python",
   "name": "python",
   "nbconvert_exporter": "python",
   "pygments_lexer": "ipython3",
   "version": "3.11.1"
  },
  "orig_nbformat": 4,
  "vscode": {
   "interpreter": {
    "hash": "de47f5c92c0ee6f12a59a5613ac5feff6aab19ddff207ba0b3964cced08c4ccc"
   }
  }
 },
 "nbformat": 4,
 "nbformat_minor": 2
}
