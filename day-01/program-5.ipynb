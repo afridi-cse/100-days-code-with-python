{
 "cells": [
  {
   "attachments": {},
   "cell_type": "markdown",
   "metadata": {},
   "source": [
    "Write a Python program to accept a filename from the user and print the extension of that.\n",
    "\n",
    "Sample filename: abc.java\n",
    "\n",
    "Sample Output:\n",
    "Input the Filename: abc.java                                                                                  \n",
    "The  extension of the file is : 'java'"
   ]
  },
  {
   "attachments": {},
   "cell_type": "markdown",
   "metadata": {},
   "source": [
    "https://www.w3resource.com/python-exercises/python-basic-exercise-7.php"
   ]
  },
  {
   "cell_type": "code",
   "execution_count": 7,
   "metadata": {},
   "outputs": [
    {
     "name": "stdout",
     "output_type": "stream",
     "text": [
      "The extension of the file is : 'py'\n",
      "The extension of the file is : py\n",
      "The extension of the file is : main\n"
     ]
    }
   ],
   "source": [
    "filename = \"afridi.main.py\".split(\".\")\n",
    "\n",
    "# filename = input(\"Input the Filename: \")\n",
    "# f_extns = filename.split(\".\")\n",
    "# print (\"The extension of the file is : \" + repr(f_extns[-1]))\n",
    "\n",
    "# filename = input(\"Input the Filename: \").split(\".\")\n",
    "\n",
    "print (\"The extension of the file is : \" + repr(filename[-1]))\n",
    "print (\"The extension of the file is : \" + filename[-1])\n",
    "\n",
    "print (\"The extension of the file is : \" + filename[1]) #never use it\n"
   ]
  },
  {
   "cell_type": "markdown",
   "metadata": {},
   "source": []
  }
 ],
 "metadata": {
  "kernelspec": {
   "display_name": "Python 3",
   "language": "python",
   "name": "python3"
  },
  "language_info": {
   "codemirror_mode": {
    "name": "ipython",
    "version": 3
   },
   "file_extension": ".py",
   "mimetype": "text/x-python",
   "name": "python",
   "nbconvert_exporter": "python",
   "pygments_lexer": "ipython3",
   "version": "3.11.1"
  },
  "orig_nbformat": 4,
  "vscode": {
   "interpreter": {
    "hash": "de47f5c92c0ee6f12a59a5613ac5feff6aab19ddff207ba0b3964cced08c4ccc"
   }
  }
 },
 "nbformat": 4,
 "nbformat_minor": 2
}
