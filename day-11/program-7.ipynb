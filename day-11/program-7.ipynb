{
 "cells": [
  {
   "attachments": {},
   "cell_type": "markdown",
   "metadata": {},
   "source": [
    " Write a Python program to sort a list of elements using shell sort algorithm. Go to the editor\n",
    "Note : According to Wikipedia \"Shell sort or Shell's method, is an in-place comparison sort. It can be seen as either a generalization of sorting by exchange (bubble sort) or sorting by insertion (insertion sort). The method starts by sorting pairs of elements far apart from each other, then progressively reducing the gap between elements to be compared. Starting with far apart elements can move some out-of-place elements into position faster than a simple nearest neighbor exchange.\""
   ]
  },
  {
   "cell_type": "code",
   "execution_count": 1,
   "metadata": {},
   "outputs": [
    {
     "name": "stdout",
     "output_type": "stream",
     "text": [
      "After increments of size 4 The list is [14, 41, 43, 21, 57, 46, 45, 27, 70]\n",
      "After increments of size 2 The list is [14, 21, 43, 27, 45, 41, 57, 46, 70]\n",
      "After increments of size 1 The list is [14, 21, 27, 41, 43, 45, 46, 57, 70]\n",
      "[14, 21, 27, 41, 43, 45, 46, 57, 70]\n"
     ]
    }
   ],
   "source": [
    "def shellSort(alist):\n",
    "    sublistcount = len(alist)//2\n",
    "    while sublistcount > 0:\n",
    "      for start_position in range(sublistcount):\n",
    "        gap_InsertionSort(alist, start_position, sublistcount)\n",
    "\n",
    "      print(\"After increments of size\",sublistcount, \"The list is\",nlist)\n",
    "\n",
    "      sublistcount = sublistcount // 2\n",
    "\n",
    "def gap_InsertionSort(nlist,start,gap):\n",
    "    for i in range(start+gap,len(nlist),gap):\n",
    "\n",
    "        current_value = nlist[i]\n",
    "        position = i\n",
    "\n",
    "        while position>=gap and nlist[position-gap]>current_value:\n",
    "            nlist[position]=nlist[position-gap]\n",
    "            position = position-gap\n",
    "\n",
    "        nlist[position]=current_value\n",
    "\n",
    "\n",
    "nlist = [14,46,43,27,57,41,45,21,70]\n",
    "shellSort(nlist)\n",
    "print(nlist)\n"
   ]
  }
 ],
 "metadata": {
  "kernelspec": {
   "display_name": "Python 3",
   "language": "python",
   "name": "python3"
  },
  "language_info": {
   "codemirror_mode": {
    "name": "ipython",
    "version": 3
   },
   "file_extension": ".py",
   "mimetype": "text/x-python",
   "name": "python",
   "nbconvert_exporter": "python",
   "pygments_lexer": "ipython3",
   "version": "3.11.1"
  },
  "orig_nbformat": 4,
  "vscode": {
   "interpreter": {
    "hash": "de47f5c92c0ee6f12a59a5613ac5feff6aab19ddff207ba0b3964cced08c4ccc"
   }
  }
 },
 "nbformat": 4,
 "nbformat_minor": 2
}
