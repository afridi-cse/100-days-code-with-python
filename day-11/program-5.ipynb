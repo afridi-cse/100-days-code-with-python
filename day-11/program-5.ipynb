{
 "cells": [
  {
   "attachments": {},
   "cell_type": "markdown",
   "metadata": {},
   "source": [
    "Write a Python program to sort a list of elements using the selection sort algorithm. \n",
    "Note : The selection sort improves on the bubble sort by making only one exchange for every pass through the list. \n",
    "Sample Data: [14,46,43,27,57,41,45,21,70]\n",
    "Expected Result: [14, 21, 27, 41, 43, 45, 46, 57, 70]"
   ]
  },
  {
   "cell_type": "code",
   "execution_count": 2,
   "metadata": {},
   "outputs": [
    {
     "name": "stdout",
     "output_type": "stream",
     "text": [
      "[14, 21, 27, 41, 43, 45, 46, 57, 70]\n"
     ]
    }
   ],
   "source": [
    "def selectionSort(nlist):\n",
    "   for fillslot in range(len(nlist)-1,0,-1):\n",
    "       maxpos=0\n",
    "       for location in range(1,fillslot+1):\n",
    "           if nlist[location]>nlist[maxpos]:\n",
    "               maxpos = location\n",
    "\n",
    "       temp = nlist[fillslot]\n",
    "       nlist[fillslot] = nlist[maxpos]\n",
    "       nlist[maxpos] = temp\n",
    "\n",
    "nlist = [14,46,43,27,57,41,45,21,70]\n",
    "selectionSort(nlist)\n",
    "print(nlist)\n"
   ]
  }
 ],
 "metadata": {
  "kernelspec": {
   "display_name": "Python 3",
   "language": "python",
   "name": "python3"
  },
  "language_info": {
   "codemirror_mode": {
    "name": "ipython",
    "version": 3
   },
   "file_extension": ".py",
   "mimetype": "text/x-python",
   "name": "python",
   "nbconvert_exporter": "python",
   "pygments_lexer": "ipython3",
   "version": "3.11.1"
  },
  "orig_nbformat": 4,
  "vscode": {
   "interpreter": {
    "hash": "de47f5c92c0ee6f12a59a5613ac5feff6aab19ddff207ba0b3964cced08c4ccc"
   }
  }
 },
 "nbformat": 4,
 "nbformat_minor": 2
}
