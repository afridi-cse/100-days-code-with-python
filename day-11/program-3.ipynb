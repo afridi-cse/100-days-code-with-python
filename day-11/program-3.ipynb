{
 "cells": [
  {
   "attachments": {},
   "cell_type": "markdown",
   "metadata": {},
   "source": [
    "Write a Python program for binary search for an ordered list. Go to the editor\n",
    "Test Data :\n",
    "Ordered_binary_Search([0, 1, 3, 8, 14, 18, 19, 34, 52], 3) -> True\n",
    "Ordered_binary_Search([0, 1, 3, 8, 14, 18, 19, 34, 52], 17) -> False"
   ]
  },
  {
   "cell_type": "code",
   "execution_count": 1,
   "metadata": {},
   "outputs": [
    {
     "name": "stdout",
     "output_type": "stream",
     "text": [
      "True\n",
      "False\n"
     ]
    }
   ],
   "source": [
    "def Ordered_binary_Search(olist, item):\n",
    "    \n",
    "    if len(olist) == 0:\n",
    "        return False\n",
    "    else:\n",
    "        midpoint = len(olist) // 2\n",
    "        if olist[midpoint] == item:\n",
    "            return True\n",
    "        else:\n",
    "            if item < olist[midpoint]:\n",
    "                return binarySearch(olist[:midpoint], item)\n",
    "            else:\n",
    "                return binarySearch(olist[midpoint+1:], item)\n",
    "\n",
    "def binarySearch(alist, item):\n",
    "\n",
    "    first = 0\n",
    "    last = len(alist) - 1\n",
    "    found = False\n",
    "\n",
    "    while first <= last and not found:\n",
    "        midpoint = (first + last) // 2\n",
    "        if alist[midpoint] == item:\n",
    "            found = True\n",
    "        else:\n",
    "            if item < alist[midpoint]:\n",
    "                last = midpoint - 1\n",
    "            else:\n",
    "                first = midpoint + 1\n",
    "\n",
    "    return found\n",
    "\n",
    "print(Ordered_binary_Search([0, 1, 3, 8, 14, 18, 19, 34, 52], 3))\n",
    "print(Ordered_binary_Search([0, 1, 3, 8, 14, 18, 19, 34, 52], 17))\n"
   ]
  }
 ],
 "metadata": {
  "kernelspec": {
   "display_name": "Python 3",
   "language": "python",
   "name": "python3"
  },
  "language_info": {
   "codemirror_mode": {
    "name": "ipython",
    "version": 3
   },
   "file_extension": ".py",
   "mimetype": "text/x-python",
   "name": "python",
   "nbconvert_exporter": "python",
   "pygments_lexer": "ipython3",
   "version": "3.11.1"
  },
  "orig_nbformat": 4,
  "vscode": {
   "interpreter": {
    "hash": "de47f5c92c0ee6f12a59a5613ac5feff6aab19ddff207ba0b3964cced08c4ccc"
   }
  }
 },
 "nbformat": 4,
 "nbformat_minor": 2
}
