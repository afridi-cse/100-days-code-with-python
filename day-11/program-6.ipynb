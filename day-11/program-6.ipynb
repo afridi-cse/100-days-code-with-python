{
 "cells": [
  {
   "attachments": {},
   "cell_type": "markdown",
   "metadata": {},
   "source": [
    "Write a Python program to sort a list of elements using the insertion sort algorithm. \n",
    "Note : According to Wikipedia \"Insertion sort is a simple sorting algorithm that builds the final sorted array (or list) one item at a time. It is much less efficient on large lists than more advanced algorithms such as quicksort, heapsort, or merge sort.\"\n",
    "Sample Data: [14,46,43,27,57,41,45,21,70]\n",
    "Expected Result : [14, 21, 27, 41, 43, 45, 46, 57, 70]"
   ]
  },
  {
   "cell_type": "code",
   "execution_count": 1,
   "metadata": {},
   "outputs": [
    {
     "name": "stdout",
     "output_type": "stream",
     "text": [
      "[14, 21, 27, 41, 43, 45, 46, 57, 70]\n"
     ]
    }
   ],
   "source": [
    "def insertionSort(nlist):\n",
    "   for index in range(1,len(nlist)):\n",
    "\n",
    "     currentvalue = nlist[index]\n",
    "     position = index\n",
    "\n",
    "     while position>0 and nlist[position-1]>currentvalue:\n",
    "         nlist[position]=nlist[position-1]\n",
    "         position = position-1\n",
    "\n",
    "     nlist[position]=currentvalue\n",
    "\n",
    "nlist = [14,46,43,27,57,41,45,21,70]\n",
    "insertionSort(nlist)\n",
    "print(nlist)\n"
   ]
  }
 ],
 "metadata": {
  "kernelspec": {
   "display_name": "Python 3",
   "language": "python",
   "name": "python3"
  },
  "language_info": {
   "codemirror_mode": {
    "name": "ipython",
    "version": 3
   },
   "file_extension": ".py",
   "mimetype": "text/x-python",
   "name": "python",
   "nbconvert_exporter": "python",
   "pygments_lexer": "ipython3",
   "version": "3.11.1"
  },
  "orig_nbformat": 4,
  "vscode": {
   "interpreter": {
    "hash": "de47f5c92c0ee6f12a59a5613ac5feff6aab19ddff207ba0b3964cced08c4ccc"
   }
  }
 },
 "nbformat": 4,
 "nbformat_minor": 2
}
