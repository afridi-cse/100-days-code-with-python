{
 "cells": [
  {
   "attachments": {},
   "cell_type": "markdown",
   "metadata": {},
   "source": [
    "Write a Python program to sort a list of lists by a given index of the inner list using lambda."
   ]
  },
  {
   "cell_type": "code",
   "execution_count": 1,
   "metadata": {},
   "outputs": [
    {
     "name": "stdout",
     "output_type": "stream",
     "text": [
      "Original list:\n",
      "[('Greyson Fulton', 98, 99), ('Brady Kent', 97, 96), ('Wyatt Knott', 91, 94), ('Beau Turnbull', 94, 98)]\n",
      "\n",
      "Sort the said list of lists by a given index ( Index =  0 ) of the inner list\n",
      "[('Beau Turnbull', 94, 98), ('Brady Kent', 97, 96), ('Greyson Fulton', 98, 99), ('Wyatt Knott', 91, 94)]\n",
      "\n",
      "Sort the said list of lists by a given index ( Index =  2 ) of the inner list\n",
      "[('Wyatt Knott', 91, 94), ('Brady Kent', 97, 96), ('Beau Turnbull', 94, 98), ('Greyson Fulton', 98, 99)]\n"
     ]
    }
   ],
   "source": [
    "def index_on_inner_list(list_data, index_no):\n",
    "    result = sorted(list_data, key=lambda x: x[index_no])\n",
    "    return result\n",
    "students = [('Greyson Fulton', 98, 99), ('Brady Kent', 97, 96), ('Wyatt Knott', 91, 94), ('Beau Turnbull', 94, 98)] \n",
    "print (\"Original list:\")\n",
    "print(students)\n",
    "index_no = 0\n",
    "print(\"\\nSort the said list of lists by a given index\",\"( Index = \",index_no,\") of the inner list\")\n",
    "print(index_on_inner_list(students, index_no))\n",
    "index_no = 2\n",
    "print(\"\\nSort the said list of lists by a given index\",\"( Index = \",index_no,\") of the inner list\")\n",
    "print(index_on_inner_list(students, index_no))\n"
   ]
  }
 ],
 "metadata": {
  "kernelspec": {
   "display_name": "Python 3",
   "language": "python",
   "name": "python3"
  },
  "language_info": {
   "codemirror_mode": {
    "name": "ipython",
    "version": 3
   },
   "file_extension": ".py",
   "mimetype": "text/x-python",
   "name": "python",
   "nbconvert_exporter": "python",
   "pygments_lexer": "ipython3",
   "version": "3.11.1"
  },
  "orig_nbformat": 4,
  "vscode": {
   "interpreter": {
    "hash": "de47f5c92c0ee6f12a59a5613ac5feff6aab19ddff207ba0b3964cced08c4ccc"
   }
  }
 },
 "nbformat": 4,
 "nbformat_minor": 2
}
