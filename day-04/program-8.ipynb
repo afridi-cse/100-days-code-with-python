{
 "cells": [
  {
   "attachments": {},
   "cell_type": "markdown",
   "metadata": {},
   "source": [
    "Write a Python program to remove specific words from a given list using lambda.\n",
    "\n"
   ]
  },
  {
   "cell_type": "code",
   "execution_count": 1,
   "metadata": {},
   "outputs": [
    {
     "name": "stdout",
     "output_type": "stream",
     "text": [
      "Original list:\n",
      "['orange', 'red', 'green', 'blue', 'white', 'black']\n",
      "\n",
      "Remove words:\n",
      "['orange', 'black']\n",
      "\n",
      "After removing the specified words from the said list:\n",
      "['red', 'green', 'blue', 'white']\n"
     ]
    }
   ],
   "source": [
    "def remove_words(list1, remove_words):\n",
    "    result = list(filter(lambda word: word not in remove_words, list1))\n",
    "    return result\n",
    "        \n",
    "colors = ['orange', 'red', 'green', 'blue', 'white', 'black']\n",
    "remove_colors = ['orange','black']\n",
    "print(\"Original list:\")\n",
    "print(colors)\n",
    "print(\"\\nRemove words:\")\n",
    "print(remove_colors)\n",
    "print(\"\\nAfter removing the specified words from the said list:\")\n",
    "print(remove_words(colors, remove_colors))\n"
   ]
  }
 ],
 "metadata": {
  "kernelspec": {
   "display_name": "Python 3",
   "language": "python",
   "name": "python3"
  },
  "language_info": {
   "codemirror_mode": {
    "name": "ipython",
    "version": 3
   },
   "file_extension": ".py",
   "mimetype": "text/x-python",
   "name": "python",
   "nbconvert_exporter": "python",
   "pygments_lexer": "ipython3",
   "version": "3.11.1"
  },
  "orig_nbformat": 4,
  "vscode": {
   "interpreter": {
    "hash": "de47f5c92c0ee6f12a59a5613ac5feff6aab19ddff207ba0b3964cced08c4ccc"
   }
  }
 },
 "nbformat": 4,
 "nbformat_minor": 2
}
