{
 "cells": [
  {
   "attachments": {},
   "cell_type": "markdown",
   "metadata": {},
   "source": [
    "Write a Python program to find the elements of a given list of strings that contain specific substring using lambda."
   ]
  },
  {
   "cell_type": "code",
   "execution_count": 1,
   "metadata": {},
   "outputs": [
    {
     "name": "stdout",
     "output_type": "stream",
     "text": [
      "Original list:\n",
      "['red', 'black', 'white', 'green', 'orange']\n",
      "\n",
      "Substring to search:\n",
      "ack\n",
      "Elements of the said list that contain specific substring:\n",
      "['black']\n",
      "\n",
      "Substring to search:\n",
      "abc\n",
      "Elements of the said list that contain specific substring:\n",
      "[]\n"
     ]
    }
   ],
   "source": [
    "def find_substring(str1, sub_str):\n",
    "    result = list(filter(lambda x: sub_str in x, str1))\n",
    "    return result\n",
    "colors = [\"red\", \"black\", \"white\", \"green\", \"orange\"]\n",
    "print(\"Original list:\")\n",
    "print(colors)\n",
    "\n",
    "sub_str = \"ack\"\n",
    "print(\"\\nSubstring to search:\")\n",
    "print(sub_str)\n",
    "print(\"Elements of the said list that contain specific substring:\")\n",
    "print(find_substring(colors, sub_str))\n",
    "sub_str = \"abc\"\n",
    "print(\"\\nSubstring to search:\")\n",
    "print(sub_str)\n",
    "print(\"Elements of the said list that contain specific substring:\")\n",
    "print(find_substring(colors, sub_str))\n",
    "\n"
   ]
  },
  {
   "cell_type": "markdown",
   "metadata": {},
   "source": []
  }
 ],
 "metadata": {
  "kernelspec": {
   "display_name": "Python 3",
   "language": "python",
   "name": "python3"
  },
  "language_info": {
   "codemirror_mode": {
    "name": "ipython",
    "version": 3
   },
   "file_extension": ".py",
   "mimetype": "text/x-python",
   "name": "python",
   "nbconvert_exporter": "python",
   "pygments_lexer": "ipython3",
   "version": "3.11.1"
  },
  "orig_nbformat": 4,
  "vscode": {
   "interpreter": {
    "hash": "de47f5c92c0ee6f12a59a5613ac5feff6aab19ddff207ba0b3964cced08c4ccc"
   }
  }
 },
 "nbformat": 4,
 "nbformat_minor": 2
}
