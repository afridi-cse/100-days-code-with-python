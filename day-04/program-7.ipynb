{
 "cells": [
  {
   "attachments": {},
   "cell_type": "markdown",
   "metadata": {},
   "source": [
    "Write a Python program to calculate the product of a given list of numbers using lambda.\n",
    "\n"
   ]
  },
  {
   "cell_type": "code",
   "execution_count": 1,
   "metadata": {},
   "outputs": [
    {
     "name": "stdout",
     "output_type": "stream",
     "text": [
      "list1: [1, 2, 3, 4, 5, 6, 7, 8, 9, 10]\n",
      "Product of the said list numbers:\n",
      "3628800\n",
      "\n",
      "list2: [2.2, 4.12, 6.6, 8.1, 8.3]\n",
      "Product of the said list numbers:\n",
      "4021.8599520000007\n"
     ]
    }
   ],
   "source": [
    "import functools \n",
    "def remove_duplicates(nums):\n",
    "    result = functools.reduce(lambda x, y: x * y, nums, 1)\n",
    "    return result\n",
    "nums1 = [1,2,3,4,5,6,7,8,9,10]\n",
    "nums2 = [2.2,4.12,6.6,8.1,8.3]\n",
    "print(\"list1:\", nums1)\n",
    "print(\"Product of the said list numbers:\")\n",
    "print(remove_duplicates(nums1))\n",
    "print(\"\\nlist2:\", nums2)\n",
    "print(\"Product of the said list numbers:\")\n",
    "print(remove_duplicates(nums2))\n"
   ]
  }
 ],
 "metadata": {
  "kernelspec": {
   "display_name": "Python 3",
   "language": "python",
   "name": "python3"
  },
  "language_info": {
   "codemirror_mode": {
    "name": "ipython",
    "version": 3
   },
   "file_extension": ".py",
   "mimetype": "text/x-python",
   "name": "python",
   "nbconvert_exporter": "python",
   "pygments_lexer": "ipython3",
   "version": "3.11.1"
  },
  "orig_nbformat": 4,
  "vscode": {
   "interpreter": {
    "hash": "de47f5c92c0ee6f12a59a5613ac5feff6aab19ddff207ba0b3964cced08c4ccc"
   }
  }
 },
 "nbformat": 4,
 "nbformat_minor": 2
}
