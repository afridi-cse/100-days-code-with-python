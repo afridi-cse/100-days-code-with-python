{
 "cells": [
  {
   "attachments": {},
   "cell_type": "markdown",
   "metadata": {},
   "source": [
    "Write a Python program to calculate two date difference in seconds.\n",
    "\n"
   ]
  },
  {
   "cell_type": "code",
   "execution_count": 2,
   "metadata": {},
   "outputs": [
    {
     "name": "stdout",
     "output_type": "stream",
     "text": [
      "\n",
      "252968827 seconds\n",
      "\n"
     ]
    }
   ],
   "source": [
    "from datetime import datetime, time\n",
    "def date_diff_in_Seconds(dt2, dt1):\n",
    "  timedelta = dt2 - dt1\n",
    "  return timedelta.days * 24 * 3600 + timedelta.seconds\n",
    "#Specified date\n",
    "date1 = datetime.strptime('2015-01-01 01:00:00', '%Y-%m-%d %H:%M:%S')\n",
    "#Current date\n",
    "date2 = datetime.now()\n",
    "print(\"\\n%d seconds\" %(date_diff_in_Seconds(date2, date1)))\n",
    "print()\n"
   ]
  }
 ],
 "metadata": {
  "kernelspec": {
   "display_name": "Python 3",
   "language": "python",
   "name": "python3"
  },
  "language_info": {
   "codemirror_mode": {
    "name": "ipython",
    "version": 3
   },
   "file_extension": ".py",
   "mimetype": "text/x-python",
   "name": "python",
   "nbconvert_exporter": "python",
   "pygments_lexer": "ipython3",
   "version": "3.11.1"
  },
  "orig_nbformat": 4,
  "vscode": {
   "interpreter": {
    "hash": "de47f5c92c0ee6f12a59a5613ac5feff6aab19ddff207ba0b3964cced08c4ccc"
   }
  }
 },
 "nbformat": 4,
 "nbformat_minor": 2
}
