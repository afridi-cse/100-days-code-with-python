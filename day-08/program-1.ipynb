{
 "cells": [
  {
   "attachments": {},
   "cell_type": "markdown",
   "metadata": {},
   "source": [
    "Write a Python program to print a string five times, delay three seconds.\n",
    "\n"
   ]
  },
  {
   "cell_type": "code",
   "execution_count": 2,
   "metadata": {},
   "outputs": [
    {
     "name": "stdout",
     "output_type": "stream",
     "text": [
      "\n",
      "ShahidAfridi will print five  times, delay for three seconds.\n",
      "ShahidAfridi\n",
      "ShahidAfridi\n",
      "ShahidAfridi\n",
      "ShahidAfridi\n",
      "ShahidAfridi\n"
     ]
    }
   ],
   "source": [
    "import time \n",
    "x=0\n",
    "print(\"\\nShahidAfridi will print five  times, delay for three seconds.\")\n",
    "while x<5:\n",
    "    print(\"ShahidAfridi\")\n",
    "    time.sleep(3)\n",
    "    x=x+1\n",
    "\t"
   ]
  }
 ],
 "metadata": {
  "kernelspec": {
   "display_name": "Python 3",
   "language": "python",
   "name": "python3"
  },
  "language_info": {
   "codemirror_mode": {
    "name": "ipython",
    "version": 3
   },
   "file_extension": ".py",
   "mimetype": "text/x-python",
   "name": "python",
   "nbconvert_exporter": "python",
   "pygments_lexer": "ipython3",
   "version": "3.11.1"
  },
  "orig_nbformat": 4,
  "vscode": {
   "interpreter": {
    "hash": "de47f5c92c0ee6f12a59a5613ac5feff6aab19ddff207ba0b3964cced08c4ccc"
   }
  }
 },
 "nbformat": 4,
 "nbformat_minor": 2
}
