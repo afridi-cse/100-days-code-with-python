{
 "cells": [
  {
   "attachments": {},
   "cell_type": "markdown",
   "metadata": {},
   "source": [
    "Write a Python program to create 12 fixed dates from a specified date over a given period. The difference between two dates will be 20."
   ]
  },
  {
   "cell_type": "code",
   "execution_count": 1,
   "metadata": {},
   "outputs": [
    {
     "name": "stdout",
     "output_type": "stream",
     "text": [
      "Starting Date: 2016-08-01\n",
      "Next 12 days :\n",
      "2016-08-21\n",
      "2016-09-10\n",
      "2016-09-30\n",
      "2016-10-20\n",
      "2016-11-09\n",
      "2016-11-29\n",
      "2016-12-19\n",
      "2017-01-08\n",
      "2017-01-28\n",
      "2017-02-17\n",
      "2017-03-09\n",
      "2017-03-29\n"
     ]
    }
   ],
   "source": [
    "import datetime\n",
    "def every_20_days(date):\n",
    "    print('Starting Date: {d}'.format(d=date))\n",
    "    print(\"Next 12 days :\")\n",
    "    for _ in range(12):\n",
    "        date=date+datetime.timedelta(days=20)\n",
    "        print('{d}'.format(d=date))\n",
    "\n",
    "dt = datetime.date(2016,8,1)\n",
    "every_20_days(dt)\n"
   ]
  }
 ],
 "metadata": {
  "kernelspec": {
   "display_name": "Python 3",
   "language": "python",
   "name": "python3"
  },
  "language_info": {
   "codemirror_mode": {
    "name": "ipython",
    "version": 3
   },
   "file_extension": ".py",
   "mimetype": "text/x-python",
   "name": "python",
   "nbconvert_exporter": "python",
   "pygments_lexer": "ipython3",
   "version": "3.11.1"
  },
  "orig_nbformat": 4,
  "vscode": {
   "interpreter": {
    "hash": "de47f5c92c0ee6f12a59a5613ac5feff6aab19ddff207ba0b3964cced08c4ccc"
   }
  }
 },
 "nbformat": 4,
 "nbformat_minor": 2
}
