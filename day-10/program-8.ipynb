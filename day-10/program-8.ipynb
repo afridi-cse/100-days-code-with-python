{
 "cells": [
  {
   "attachments": {},
   "cell_type": "markdown",
   "metadata": {},
   "source": [
    "Write a Python program to convert a given list of strings into list of lists using map function.\n",
    "\n"
   ]
  },
  {
   "cell_type": "code",
   "execution_count": 1,
   "metadata": {},
   "outputs": [
    {
     "name": "stdout",
     "output_type": "stream",
     "text": [
      "Original list of strings:\n",
      "['Red', 'Green', 'Black', 'Orange']\n",
      "\n",
      "Convert the said list of strings into list of lists:\n",
      "[['R', 'e', 'd'], ['G', 'r', 'e', 'e', 'n'], ['B', 'l', 'a', 'c', 'k'], ['O', 'r', 'a', 'n', 'g', 'e']]\n"
     ]
    }
   ],
   "source": [
    "def strings_to_listOflists(str):\n",
    "    result = map(list, str)\n",
    "    return list(result)\n",
    "\n",
    "colors = [\"Red\", \"Green\", \"Black\", \"Orange\"]\n",
    "print('Original list of strings:')\n",
    "print(colors)\n",
    "print(\"\\nConvert the said list of strings into list of lists:\")\n",
    "print(strings_to_listOflists(colors))\n"
   ]
  }
 ],
 "metadata": {
  "kernelspec": {
   "display_name": "Python 3",
   "language": "python",
   "name": "python3"
  },
  "language_info": {
   "codemirror_mode": {
    "name": "ipython",
    "version": 3
   },
   "file_extension": ".py",
   "mimetype": "text/x-python",
   "name": "python",
   "nbconvert_exporter": "python",
   "pygments_lexer": "ipython3",
   "version": "3.11.1"
  },
  "orig_nbformat": 4,
  "vscode": {
   "interpreter": {
    "hash": "de47f5c92c0ee6f12a59a5613ac5feff6aab19ddff207ba0b3964cced08c4ccc"
   }
  }
 },
 "nbformat": 4,
 "nbformat_minor": 2
}
