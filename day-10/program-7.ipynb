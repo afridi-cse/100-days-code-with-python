{
 "cells": [
  {
   "attachments": {},
   "cell_type": "markdown",
   "metadata": {},
   "source": [
    "Write a Python program to check whether a JSON string contains complex object or not.\n",
    "\n",
    "\n"
   ]
  },
  {
   "cell_type": "code",
   "execution_count": 1,
   "metadata": {},
   "outputs": [
    {
     "name": "stdout",
     "output_type": "stream",
     "text": [
      "Original array: array('i', [0, 1, 2, -1, -5, 6, 0, -3, -2, 3, 4, 6, 8])\n",
      "Ratio of positive numbers, negative numbers and zeroes:\n",
      "(0.54, 0.31, 0.15)\n",
      "\n",
      "Original array: array('i', [2, 1, 2, -1, -5, 6, 4, -3, -2, 3, 4, 6, 8])\n",
      "Ratio of positive numbers, negative numbers and zeroes:\n",
      "(0.69, 0.31, 0.0)\n"
     ]
    }
   ],
   "source": [
    "from array import array\n",
    "\n",
    "def plusMinus(nums):\n",
    "    n = len(nums)\n",
    "    n1 = n2 = n3 = 0\n",
    "    \n",
    "    for x in nums:\n",
    "        if x > 0:\n",
    "            n1 += 1\n",
    "        elif x < 0:\n",
    "            n2 += 1\n",
    "        else:\n",
    "            n3 += 1\n",
    "            \n",
    "    return round(n1/n,2), round(n2/n,2), round(n3/n,2)\n",
    "\n",
    "nums = array('i', [0, 1, 2, -1, -5, 6, 0, -3, -2, 3, 4, 6, 8])\n",
    "print(\"Original array:\",nums)\n",
    "nums_arr = list(map(int, nums))\n",
    "result = plusMinus(nums_arr)\n",
    "print(\"Ratio of positive numbers, negative numbers and zeroes:\")\n",
    "print(result)\n",
    "nums = array('i', [2, 1, 2, -1, -5, 6, 4, -3, -2, 3, 4, 6, 8])\n",
    "print(\"\\nOriginal array:\",nums)\n",
    "nums_arr = list(map(int, nums))\n",
    "result = plusMinus(nums_arr)\n",
    "print(\"Ratio of positive numbers, negative numbers and zeroes:\")\n",
    "print(result)\n"
   ]
  }
 ],
 "metadata": {
  "kernelspec": {
   "display_name": "Python 3",
   "language": "python",
   "name": "python3"
  },
  "language_info": {
   "codemirror_mode": {
    "name": "ipython",
    "version": 3
   },
   "file_extension": ".py",
   "mimetype": "text/x-python",
   "name": "python",
   "nbconvert_exporter": "python",
   "pygments_lexer": "ipython3",
   "version": "3.11.1"
  },
  "orig_nbformat": 4,
  "vscode": {
   "interpreter": {
    "hash": "de47f5c92c0ee6f12a59a5613ac5feff6aab19ddff207ba0b3964cced08c4ccc"
   }
  }
 },
 "nbformat": 4,
 "nbformat_minor": 2
}
