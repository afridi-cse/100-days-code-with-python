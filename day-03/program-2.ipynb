{
 "cells": [
  {
   "attachments": {},
   "cell_type": "markdown",
   "metadata": {},
   "source": [
    "Write a Python program to create a function that takes one argument, and that argument will be multiplied with an unknown given number."
   ]
  },
  {
   "cell_type": "code",
   "execution_count": 2,
   "metadata": {},
   "outputs": [
    {
     "name": "stdout",
     "output_type": "stream",
     "text": [
      "Double the number of 15 = 30\n",
      "Triple the number of 15 = 45\n",
      "Quadruple the number of 15 = 60\n",
      "Quintuple the number 15 = 75\n"
     ]
    }
   ],
   "source": [
    "def func_compute(n):\n",
    " return lambda x : x * n\n",
    "result = func_compute(2)\n",
    "print(\"Double the number of 15 =\", result(15))\n",
    "result = func_compute(3)\n",
    "print(\"Triple the number of 15 =\", result(15))\n",
    "result = func_compute(4)\n",
    "print(\"Quadruple the number of 15 =\", result(15))\n",
    "result = func_compute(5)\n",
    "print(\"Quintuple the number 15 =\", result(15))\n"
   ]
  }
 ],
 "metadata": {
  "kernelspec": {
   "display_name": "Python 3",
   "language": "python",
   "name": "python3"
  },
  "language_info": {
   "codemirror_mode": {
    "name": "ipython",
    "version": 3
   },
   "file_extension": ".py",
   "mimetype": "text/x-python",
   "name": "python",
   "nbconvert_exporter": "python",
   "pygments_lexer": "ipython3",
   "version": "3.11.1"
  },
  "orig_nbformat": 4,
  "vscode": {
   "interpreter": {
    "hash": "de47f5c92c0ee6f12a59a5613ac5feff6aab19ddff207ba0b3964cced08c4ccc"
   }
  }
 },
 "nbformat": 4,
 "nbformat_minor": 2
}
