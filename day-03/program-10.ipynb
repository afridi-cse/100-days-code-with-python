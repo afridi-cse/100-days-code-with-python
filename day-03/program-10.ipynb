{
 "cells": [
  {
   "attachments": {},
   "cell_type": "markdown",
   "metadata": {},
   "source": [
    " Write a Python program to create the next bigger number by rearranging the digits of a given number."
   ]
  },
  {
   "cell_type": "code",
   "execution_count": 1,
   "metadata": {},
   "outputs": [
    {
     "name": "stdout",
     "output_type": "stream",
     "text": [
      "Original number: 12\n",
      "Next bigger number: 21\n",
      "\n",
      "Original number: 10\n",
      "Next bigger number: False\n",
      "\n",
      "Original number: 201\n",
      "Next bigger number: 210\n",
      "\n",
      "Original number: 102\n",
      "Next bigger number: 120\n",
      "\n",
      "Original number: 445\n",
      "Next bigger number: 454\n"
     ]
    }
   ],
   "source": [
    "def rearrange_bigger(n):\n",
    "    #Break the number into digits and store in a list\n",
    "    nums = list(str(n))\n",
    "    for i in range(len(nums)-2,-1,-1):\n",
    "        if nums[i] < nums[i+1]:\n",
    "            z = nums[i:]\n",
    "            y = min(filter(lambda x: x > z[0], z))\n",
    "            z.remove(y)\n",
    "            z.sort()\n",
    "            nums[i:] = [y] + z\n",
    "            return int(\"\".join(nums))\n",
    "    return False\n",
    "n = 12\n",
    "print(\"Original number:\",n)\n",
    "print(\"Next bigger number:\",rearrange_bigger(n))\n",
    "\n",
    "n = 10\n",
    "print(\"\\nOriginal number:\",n)\n",
    "print(\"Next bigger number:\",rearrange_bigger(n))\n",
    "      \n",
    "n = 201\n",
    "print(\"\\nOriginal number:\",n)\n",
    "print(\"Next bigger number:\",rearrange_bigger(n))\n",
    "n = 102\n",
    "print(\"\\nOriginal number:\",n)\n",
    "print(\"Next bigger number:\",rearrange_bigger(n))\n",
    "n = 445\n",
    "print(\"\\nOriginal number:\",n)\n",
    "print(\"Next bigger number:\",rearrange_bigger(n))\n"
   ]
  }
 ],
 "metadata": {
  "kernelspec": {
   "display_name": "Python 3",
   "language": "python",
   "name": "python3"
  },
  "language_info": {
   "codemirror_mode": {
    "name": "ipython",
    "version": 3
   },
   "file_extension": ".py",
   "mimetype": "text/x-python",
   "name": "python",
   "nbconvert_exporter": "python",
   "pygments_lexer": "ipython3",
   "version": "3.11.1"
  },
  "orig_nbformat": 4,
  "vscode": {
   "interpreter": {
    "hash": "de47f5c92c0ee6f12a59a5613ac5feff6aab19ddff207ba0b3964cced08c4ccc"
   }
  }
 },
 "nbformat": 4,
 "nbformat_minor": 2
}
