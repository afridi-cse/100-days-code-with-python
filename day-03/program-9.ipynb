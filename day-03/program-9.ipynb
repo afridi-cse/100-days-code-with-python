{
 "cells": [
  {
   "attachments": {},
   "cell_type": "markdown",
   "metadata": {},
   "source": [
    "Write a Python program to find the second lowest grade of any student(s) from the given names and grades of each student using lists and lambda. Input number of students, names and grades of each student.\n",
    "\n",
    "Note: If there are multiple students with the same grade then print each name alphabetically."
   ]
  },
  {
   "cell_type": "code",
   "execution_count": 1,
   "metadata": {},
   "outputs": [
    {
     "name": "stdout",
     "output_type": "stream",
     "text": [
      "Maximum Value:  5874\n",
      "Minimum Value:  500\n"
     ]
    }
   ],
   "source": [
    "students = []\n",
    "sec_name = []\n",
    "second_low = 0\n",
    "n = int(input(\"Input number of students: \"))\n",
    "for _ in range(n):\n",
    "   s_name = input(\"Name: \")\n",
    "   score = float(input(\"Grade: \"))\n",
    "   students.append([s_name,score])\n",
    "print(\"\\nNames and Grades of all students:\")\n",
    "print(students)\n",
    "order =sorted(students, key = lambda x: int(x[1]))\n",
    "for i in range(n):\n",
    "   if order[i][1] != order[0][1]:\n",
    "       second_low = order[i][1]\n",
    "       break\n",
    "print(\"\\nSecond lowest grade: \",second_low)\n",
    "sec_student_name = [x[0] for x in order if x[1] == second_low]\n",
    "sec_student_name.sort()\n",
    "print(\"\\nNames:\")\n",
    "for s_name in sec_student_name:\n",
    "   print(s_name)\n"
   ]
  }
 ],
 "metadata": {
  "kernelspec": {
   "display_name": "Python 3",
   "language": "python",
   "name": "python3"
  },
  "language_info": {
   "codemirror_mode": {
    "name": "ipython",
    "version": 3
   },
   "file_extension": ".py",
   "mimetype": "text/x-python",
   "name": "python",
   "nbconvert_exporter": "python",
   "pygments_lexer": "ipython3",
   "version": "3.11.1"
  },
  "orig_nbformat": 4,
  "vscode": {
   "interpreter": {
    "hash": "de47f5c92c0ee6f12a59a5613ac5feff6aab19ddff207ba0b3964cced08c4ccc"
   }
  }
 },
 "nbformat": 4,
 "nbformat_minor": 2
}
