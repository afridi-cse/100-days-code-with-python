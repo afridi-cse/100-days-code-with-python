{
 "cells": [
  {
   "attachments": {},
   "cell_type": "markdown",
   "metadata": {},
   "source": [
    "Write a Python program to convert Python dictionary object (sort by key) to JSON data. Print the object members with indent level 4.\n",
    "\n"
   ]
  },
  {
   "cell_type": "code",
   "execution_count": 1,
   "metadata": {},
   "outputs": [
    {
     "name": "stdout",
     "output_type": "stream",
     "text": [
      "Original String:\n",
      "{'4': 5, '6': 7, '1': 3, '2': 4}\n",
      "\n",
      "JSON data:\n",
      "{\n",
      "    \"1\": 3,\n",
      "    \"2\": 4,\n",
      "    \"4\": 5,\n",
      "    \"6\": 7\n",
      "}\n"
     ]
    }
   ],
   "source": [
    "import json\n",
    "j_str = {'4': 5, '6': 7, '1': 3, '2': 4}\n",
    "print(\"Original String:\")\n",
    "print(j_str)\n",
    "print(\"\\nJSON data:\")\n",
    "print(json.dumps(j_str, sort_keys=True, indent=4))\n"
   ]
  },
  {
   "cell_type": "markdown",
   "metadata": {},
   "source": []
  }
 ],
 "metadata": {
  "kernelspec": {
   "display_name": "Python 3",
   "language": "python",
   "name": "python3"
  },
  "language_info": {
   "codemirror_mode": {
    "name": "ipython",
    "version": 3
   },
   "file_extension": ".py",
   "mimetype": "text/x-python",
   "name": "python",
   "nbconvert_exporter": "python",
   "pygments_lexer": "ipython3",
   "version": "3.11.1"
  },
  "orig_nbformat": 4,
  "vscode": {
   "interpreter": {
    "hash": "de47f5c92c0ee6f12a59a5613ac5feff6aab19ddff207ba0b3964cced08c4ccc"
   }
  }
 },
 "nbformat": 4,
 "nbformat_minor": 2
}
