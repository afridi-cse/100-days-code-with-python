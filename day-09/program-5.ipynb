{
 "cells": [
  {
   "attachments": {},
   "cell_type": "markdown",
   "metadata": {},
   "source": [
    "Write a Python program to convert JSON encoded data into Python objects."
   ]
  },
  {
   "cell_type": "code",
   "execution_count": 2,
   "metadata": {},
   "outputs": [
    {
     "name": "stdout",
     "output_type": "stream",
     "text": [
      "Python dictionary:  {'name': 'David', 'age': 6, 'class': 'I'}\n",
      "Python list:  ['Red', 'Green', 'Black']\n",
      "Python string:  Python Json\n",
      "Python integer:  1234\n",
      "Python float:  21.34\n"
     ]
    }
   ],
   "source": [
    "import json\n",
    "\n",
    "jobj_dict =  '{\"name\": \"David\", \"age\": 6, \"class\": \"I\"}'\n",
    "jobj_list =   '[\"Red\", \"Green\", \"Black\"]'\n",
    "jobj_string = '\"Python Json\"'\n",
    "jobj_int = '1234'\n",
    "jobj_float =  '21.34'\n",
    "python_dict =  json.loads(jobj_dict)\n",
    "python_list = json.loads(jobj_list)\n",
    "python_str =  json.loads(jobj_string)\n",
    "python_int =   json.loads(jobj_int)\n",
    "python_float = json.loads(jobj_float)\n",
    "\n",
    "print(\"Python dictionary: \", python_dict)\n",
    "print(\"Python list: \", python_list)\n",
    "print(\"Python string: \", python_str)\n",
    "print(\"Python integer: \", python_int)\n",
    "print(\"Python float: \", python_float)\n"
   ]
  }
 ],
 "metadata": {
  "kernelspec": {
   "display_name": "Python 3",
   "language": "python",
   "name": "python3"
  },
  "language_info": {
   "codemirror_mode": {
    "name": "ipython",
    "version": 3
   },
   "file_extension": ".py",
   "mimetype": "text/x-python",
   "name": "python",
   "nbconvert_exporter": "python",
   "pygments_lexer": "ipython3",
   "version": "3.11.1"
  },
  "orig_nbformat": 4,
  "vscode": {
   "interpreter": {
    "hash": "de47f5c92c0ee6f12a59a5613ac5feff6aab19ddff207ba0b3964cced08c4ccc"
   }
  }
 },
 "nbformat": 4,
 "nbformat_minor": 2
}
