{
 "cells": [
  {
   "attachments": {},
   "cell_type": "markdown",
   "metadata": {},
   "source": [
    "Write a Python program to convert Python object to JSON data.\n"
   ]
  },
  {
   "cell_type": "code",
   "execution_count": 1,
   "metadata": {},
   "outputs": [
    {
     "name": "stdout",
     "output_type": "stream",
     "text": [
      "<class 'dict'>\n",
      "{\"name\": \"David\", \"class\": \"I\", \"age\": 6}\n"
     ]
    }
   ],
   "source": [
    "import json\n",
    "# a Python object (dict):\n",
    "python_obj = {\n",
    "  \"name\": \"David\",\n",
    "  \"class\":\"I\",\n",
    "  \"age\": 6  \n",
    "}\n",
    "print(type(python_obj))\n",
    "# convert into JSON:\n",
    "j_data = json.dumps(python_obj)\n",
    "\n",
    "# result is a JSON string:\n",
    "print(j_data)\n"
   ]
  }
 ],
 "metadata": {
  "kernelspec": {
   "display_name": "Python 3",
   "language": "python",
   "name": "python3"
  },
  "language_info": {
   "codemirror_mode": {
    "name": "ipython",
    "version": 3
   },
   "file_extension": ".py",
   "mimetype": "text/x-python",
   "name": "python",
   "nbconvert_exporter": "python",
   "pygments_lexer": "ipython3",
   "version": "3.11.1"
  },
  "orig_nbformat": 4,
  "vscode": {
   "interpreter": {
    "hash": "de47f5c92c0ee6f12a59a5613ac5feff6aab19ddff207ba0b3964cced08c4ccc"
   }
  }
 },
 "nbformat": 4,
 "nbformat_minor": 2
}
