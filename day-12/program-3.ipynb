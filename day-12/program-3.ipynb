{
 "cells": [
  {
   "attachments": {},
   "cell_type": "markdown",
   "metadata": {},
   "source": [
    "Write a Python program to sort a list of elements using Gnome sort.\n",
    "Gnome sort is a sorting algorithm originally proposed by Dr. Hamid Sarbazi-Azad (Professor of Computer Engineering at Sharif University of Technology) in 2000 and called \"stupid sort\" (not to be confused with bogosort), and then later on described by Dick Grune and named \"gnome sort\". The algorithm always finds the first place where two adjacent elements are in the wrong order, and swaps them. It takes advantage of the fact that performing a swap can introduce a new out-of-order adjacent pair only next to the two swapped elements."
   ]
  },
  {
   "cell_type": "code",
   "execution_count": 1,
   "metadata": {},
   "outputs": [
    {
     "name": "stdout",
     "output_type": "stream",
     "text": [
      "[1, 6, 7, 12, 15, 21, 100]\n"
     ]
    }
   ],
   "source": [
    "def  gnome_sort(nums):\n",
    "    if len(nums) <= 1:\n",
    "        return nums\n",
    "        \n",
    "    i = 1\n",
    "    \n",
    "    while i < len(nums):\n",
    "        if nums[i-1] <= nums[i]:\n",
    "            i += 1\n",
    "        else:\n",
    "            nums[i-1], nums[i] = nums[i], nums[i-1]\n",
    "            i -= 1\n",
    "            if (i == 0):\n",
    "                i = 1\n",
    "           \n",
    "user_input = input(\"Input numbers separated by a comma:\\n\").strip()\n",
    "nums = [int(item) for item in user_input.split(',')]\n",
    "gnome_sort(nums)\n",
    "print(nums)\n"
   ]
  }
 ],
 "metadata": {
  "kernelspec": {
   "display_name": "Python 3",
   "language": "python",
   "name": "python3"
  },
  "language_info": {
   "codemirror_mode": {
    "name": "ipython",
    "version": 3
   },
   "file_extension": ".py",
   "mimetype": "text/x-python",
   "name": "python",
   "nbconvert_exporter": "python",
   "pygments_lexer": "ipython3",
   "version": "3.11.1"
  },
  "orig_nbformat": 4,
  "vscode": {
   "interpreter": {
    "hash": "de47f5c92c0ee6f12a59a5613ac5feff6aab19ddff207ba0b3964cced08c4ccc"
   }
  }
 },
 "nbformat": 4,
 "nbformat_minor": 2
}
