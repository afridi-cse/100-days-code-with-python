{
 "cells": [
  {
   "attachments": {},
   "cell_type": "markdown",
   "metadata": {},
   "source": [
    "\n",
    "Write a Python program to sort a list of elements using Heap sort.\n",
    "In computer science, heapsort (invented by J. W. J. Williams in 1964) is a comparison-based sorting algorithm. Heapsort can be thought of as an improved selection sort: like that algorithm, it divides its input into a sorted and an unsorted region, and it interactively shrinks the unsorted region by extracting the largest element and moving that to the sorted region. The improvement consists of the use of a heap data structure rather than a linear-time search to find the maximum. Although somewhat slower in practice on most machines than a well-implemented quicksort, it has the advantage of a more favorable worst-case O(n log n) runtime. Heapsort is an in-place algorithm, but it is not a stable sort. A run of the heapsort algorithm sorting an array of randomly permuted values. In the first stage of the algorithm the array elements are reordered to satisfy the heap property. Before the actual sorting takes place, the heap tree structure is shown briefly for illustration."
   ]
  },
  {
   "cell_type": "code",
   "execution_count": 1,
   "metadata": {},
   "outputs": [
    {
     "name": "stdout",
     "output_type": "stream",
     "text": [
      "[2, 4, 8, 12, 12, 22, 32, 32, 32, 33, 67, 67]\n"
     ]
    }
   ],
   "source": [
    "def heap_data(nums, index, heap_size):\n",
    "    largest_num = index\n",
    "    left_index = 2 * index + 1\n",
    "    right_index = 2 * index + 2\n",
    "    if left_index < heap_size and nums[left_index] > nums[largest_num]:\n",
    "        largest_num = left_index\n",
    "\n",
    "    if right_index < heap_size and nums[right_index] > nums[largest_num]:\n",
    "        largest_num = right_index\n",
    "    if largest_num != index:\n",
    "        nums[largest_num], nums[index] = nums[index], nums[largest_num]\n",
    "        heap_data(nums, largest_num, heap_size)\n",
    "def heap_sort(nums):\n",
    "    n = len(nums)\n",
    "    for i in range(n // 2 - 1, -1, -1):\n",
    "        heap_data(nums, i, n)\n",
    "    for i in range(n - 1, 0, -1):\n",
    "        nums[0], nums[i] = nums[i], nums[0]\n",
    "        heap_data(nums, 0, i)\n",
    "    return nums\n",
    "user_input = input(\"Input numbers separated by a comma:\\n\").strip()\n",
    "nums = [int(item) for item in user_input.split(',')]\n",
    "heap_sort(nums)\n",
    "print(nums)\n"
   ]
  }
 ],
 "metadata": {
  "kernelspec": {
   "display_name": "Python 3",
   "language": "python",
   "name": "python3"
  },
  "language_info": {
   "codemirror_mode": {
    "name": "ipython",
    "version": 3
   },
   "file_extension": ".py",
   "mimetype": "text/x-python",
   "name": "python",
   "nbconvert_exporter": "python",
   "pygments_lexer": "ipython3",
   "version": "3.11.1"
  },
  "orig_nbformat": 4,
  "vscode": {
   "interpreter": {
    "hash": "de47f5c92c0ee6f12a59a5613ac5feff6aab19ddff207ba0b3964cced08c4ccc"
   }
  }
 },
 "nbformat": 4,
 "nbformat_minor": 2
}
