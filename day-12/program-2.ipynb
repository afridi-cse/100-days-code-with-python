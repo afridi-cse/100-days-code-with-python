{
 "cells": [
  {
   "attachments": {},
   "cell_type": "markdown",
   "metadata": {},
   "source": [
    "Write a Python program to sort a list of elements using Bogosort sort.\n",
    "In computer science, Bogosort is a particularly ineffective sorting algorithm based on the generation and test paradigm. The algorithm successively generates permutations of its input until it finds one that is sorted. It is not useful for sorting, but may be used for educational purposes, to contrast it with other more realistic algorithms. Two versions of the algorithm exist: a deterministic version that enumerates all permutations until it hits a sorted one, and a randomized version that randomly permutes its input. An analogy for the working of the latter version is to sort a deck of cards by throwing the deck into the air, picking the cards up at random, and repeating the process until the deck is sorted. Its name comes from the word bogus."
   ]
  },
  {
   "cell_type": "code",
   "execution_count": 2,
   "metadata": {},
   "outputs": [
    {
     "name": "stdout",
     "output_type": "stream",
     "text": [
      "[1, 4, 5, 7, 34, 34, 53, 87]\n"
     ]
    }
   ],
   "source": [
    "import random\n",
    "\n",
    "def bogosort(nums):\n",
    "    def isSorted(nums):\n",
    "        if len(nums) < 2:\n",
    "            return True\n",
    "        for i in range(len(nums) - 1):\n",
    "            if nums[i] > nums[i + 1]:\n",
    "                return False\n",
    "        return True\n",
    "\n",
    "    while not isSorted(nums):\n",
    "        random.shuffle(nums)\n",
    "    return nums\n",
    "num1 = input('Input  comma separated numbers:\\n').strip()\n",
    "nums = [int(item) for item in num1.split(',')]\n",
    "print(bogosort(nums))\n"
   ]
  }
 ],
 "metadata": {
  "kernelspec": {
   "display_name": "Python 3",
   "language": "python",
   "name": "python3"
  },
  "language_info": {
   "codemirror_mode": {
    "name": "ipython",
    "version": 3
   },
   "file_extension": ".py",
   "mimetype": "text/x-python",
   "name": "python",
   "nbconvert_exporter": "python",
   "pygments_lexer": "ipython3",
   "version": "3.11.1"
  },
  "orig_nbformat": 4,
  "vscode": {
   "interpreter": {
    "hash": "de47f5c92c0ee6f12a59a5613ac5feff6aab19ddff207ba0b3964cced08c4ccc"
   }
  }
 },
 "nbformat": 4,
 "nbformat_minor": 2
}
