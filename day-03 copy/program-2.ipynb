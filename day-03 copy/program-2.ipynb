{
 "cells": [
  {
   "attachments": {},
   "cell_type": "markdown",
   "metadata": {},
   "source": [
    "Write a Python program to extract the nth element from a given list of tuples using lambda.\n"
   ]
  },
  {
   "cell_type": "code",
   "execution_count": 1,
   "metadata": {},
   "outputs": [
    {
     "name": "stdout",
     "output_type": "stream",
     "text": [
      "Original list:\n",
      "[('Greyson Fulton', 98, 99), ('Brady Kent', 97, 96), ('Wyatt Knott', 91, 94), ('Beau Turnbull', 94, 98)]\n",
      "\n",
      "Extract nth element ( n = 0 ) from the said list of tuples:\n",
      "['Greyson Fulton', 'Brady Kent', 'Wyatt Knott', 'Beau Turnbull']\n",
      "\n",
      "Extract nth element ( n = 2 ) from the said list of tuples:\n",
      "[99, 96, 94, 98]\n"
     ]
    }
   ],
   "source": [
    "def extract_nth_element(test_list, n):\n",
    "    result = list(map (lambda x:(x[n]), test_list))\n",
    "    return result\n",
    "students = [('Greyson Fulton', 98, 99), ('Brady Kent', 97, 96), ('Wyatt Knott', 91, 94), ('Beau Turnbull', 94, 98)] \n",
    "print (\"Original list:\")\n",
    "print(students)\n",
    "n = 0\n",
    "print(\"\\nExtract nth element ( n =\",n,\") from the said list of tuples:\")\n",
    "print(extract_nth_element(students, n))\n",
    "n = 2\n",
    "print(\"\\nExtract nth element ( n =\",n,\") from the said list of tuples:\")\n",
    "print(extract_nth_element(students, n))\n"
   ]
  }
 ],
 "metadata": {
  "kernelspec": {
   "display_name": "Python 3",
   "language": "python",
   "name": "python3"
  },
  "language_info": {
   "codemirror_mode": {
    "name": "ipython",
    "version": 3
   },
   "file_extension": ".py",
   "mimetype": "text/x-python",
   "name": "python",
   "nbconvert_exporter": "python",
   "pygments_lexer": "ipython3",
   "version": "3.11.1"
  },
  "orig_nbformat": 4,
  "vscode": {
   "interpreter": {
    "hash": "de47f5c92c0ee6f12a59a5613ac5feff6aab19ddff207ba0b3964cced08c4ccc"
   }
  }
 },
 "nbformat": 4,
 "nbformat_minor": 2
}
